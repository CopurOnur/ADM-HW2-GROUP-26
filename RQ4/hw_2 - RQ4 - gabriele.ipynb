{
 "cells": [
  {
   "cell_type": "markdown",
   "metadata": {},
   "source": [
    "# RQ4"
   ]
  },
  {
   "cell_type": "code",
   "execution_count": 1,
   "metadata": {},
   "outputs": [],
   "source": [
    "import pandas as pd   # importing pandas"
   ]
  },
  {
   "cell_type": "markdown",
   "metadata": {},
   "source": [
    "### premier league's teams"
   ]
  },
  {
   "cell_type": "code",
   "execution_count": 3,
   "metadata": {},
   "outputs": [],
   "source": [
    "teams = pd.read_json('C:\\\\Users\\\\Gabriele\\\\Desktop\\\\datasets\\\\teams.json')\n",
    "\n",
    "for i in range(len(teams)):    \n",
    "# drop national team\n",
    "    if teams.loc[i, 'type'] != 'club':\n",
    "        teams = teams.drop(i)         \n",
    "# drop non premier's teams (swansea is in wales)\n",
    "    elif teams.loc[i, 'area']['name'] != 'England' and teams.loc[i, 'area']['name'] != 'Wales':   \n",
    "        teams = teams.drop(i)\n",
    "\n",
    "teams = teams.reset_index(drop=True)\n"
   ]
  },
  {
   "cell_type": "markdown",
   "metadata": {},
   "source": [
    "### premier league's players"
   ]
  },
  {
   "cell_type": "code",
   "execution_count": 4,
   "metadata": {},
   "outputs": [],
   "source": [
    "players = pd.read_json('C:\\\\Users\\\\Gabriele\\\\Desktop\\\\datasets\\\\players.json')\n",
    "\n",
    "teamsId = list(teams['wyId'])\n",
    "# drop non premier league's players\n",
    "for i in range(len(players)):  \n",
    "    if players.loc[i, 'currentTeamId'] not in teamsId:\n",
    "        players = players.drop(i)\n",
    "\n",
    "players = players.reset_index(drop=True)\n"
   ]
  },
  {
   "cell_type": "markdown",
   "metadata": {},
   "source": [
    "### number of ATTEMPTED passes for every players "
   ]
  },
  {
   "cell_type": "code",
   "execution_count": null,
   "metadata": {},
   "outputs": [],
   "source": []
  },
  {
   "cell_type": "code",
   "execution_count": 5,
   "metadata": {},
   "outputs": [],
   "source": [
    "events_england = pd.read_json('C:\\\\Users\\\\Gabriele\\\\Desktop\\\\datasets\\\\events_England.json')\n",
    "\n",
    "events_england = events_england[events_england['eventName'] == 'Pass']  # only 'pass' events\n",
    "events_england = events_england.reset_index(drop=True)\n",
    "\n",
    "# creating a dict with keys(player), value(number of attempted passes)\n",
    "pass_att = {} \n",
    "\n",
    "for index1 in range(len(players)):\n",
    "    count = events_england[events_england['playerId'] == players.loc[index1, 'wyId']] # all attempted passes of one player\n",
    "    \n",
    "    pass_att[players.loc[index1, 'shortName']] = len(count) # value of that player = number of attempted passes\n",
    "\n",
    "# removing the players who didn't reach a reasonably number of passes\n",
    " \n",
    "l_key = [] # list of keys to remove\n",
    "\n",
    "for key, value in pass_att.items():  \n",
    "    if value < 150:\n",
    "        l_key.append(key)\n",
    "        \n",
    "# removing keys from the dict (values < 150 passes) = players who didn't reach a reasonably number of passes\n",
    "for j in l_key:  \n",
    "    pass_att.pop(j)   \n"
   ]
  },
  {
   "cell_type": "markdown",
   "metadata": {},
   "source": [
    "### new dataframe without meaningless events"
   ]
  },
  {
   "cell_type": "code",
   "execution_count": 6,
   "metadata": {},
   "outputs": [],
   "source": [
    "# removing from events_england the players removed before\n",
    "\n",
    "for i in range(len(players)):\n",
    "    if players.loc[i, 'shortName'] not in pass_att.keys():\n",
    "        players = players.drop(i)\n",
    "\n",
    "players = players.reset_index(drop=True)\n",
    "\n",
    "# creating a dataframe of events without events of removed players \n",
    "\n",
    "for i in range(len(players)):\n",
    "    if events_england.loc[i, 'playerId'] not in players['wyId']:\n",
    "        events_england = events_england.drop(i)\n",
    "\n",
    "events_england = events_england.reset_index(drop=True)\n"
   ]
  },
  {
   "cell_type": "markdown",
   "metadata": {},
   "source": [
    "### number of COMPLETED passes for every players"
   ]
  },
  {
   "cell_type": "code",
   "execution_count": 7,
   "metadata": {},
   "outputs": [],
   "source": [
    "# creating a dataframe with only the completed passes\n",
    "\n",
    "d = {'id': 1801}  #  tag 'completed pass'\n",
    "\n",
    "# creating a new column('status') which says if the pass is completed or not\n",
    "l_tags = events_england['tags'] \n",
    "status = []\n",
    "for i in range(len(l_tags)):\n",
    "\n",
    "    if d not in l_tags[i]:\n",
    "        status.append('no')\n",
    "    else:\n",
    "        status.append('completed')\n",
    "        \n",
    "# add the new column to events dataframe\n",
    "events_england['status'] = status  \n",
    "\n",
    "del events_england['tags']\n",
    "\n",
    "# taking only the completed passes\n",
    "com_pass = events_england[events_england['status'] == 'completed']\n"
   ]
  },
  {
   "cell_type": "markdown",
   "metadata": {},
   "source": [
    "### percent of completed passes and first 10 most accurate players"
   ]
  },
  {
   "cell_type": "code",
   "execution_count": null,
   "metadata": {},
   "outputs": [],
   "source": []
  },
  {
   "cell_type": "code",
   "execution_count": 8,
   "metadata": {},
   "outputs": [
    {
     "name": "stdout",
     "output_type": "stream",
     "text": [
      "[('J. Stones', 97.59136212624585), ('F. Delph', 94.50757575757575), ('V. Kompany', 94.32063263838964), ('A. Christensen', 94.02173913043478), ('P. Jones', 93.85052034058657), ('N. Otamendi', 93.75843454790824), ('\\\\u0130. G\\\\u00fcndo\\\\u011fan', 93.55555555555556), ('V. Lindel\\\\u00f6f', 93.55281207133059), ('M. Demb\\\\u00e9l\\\\u00e9', 93.26007326007326), ('Ederson', 93.24487334137515)]\n"
     ]
    }
   ],
   "source": [
    "# creating a dict with keys(player), value(number of completed passes)\n",
    "pass_com = {} \n",
    "\n",
    "for index1 in range(len(players)):\n",
    "    count1 = com_pass[com_pass['playerId'] == players.loc[index1, 'wyId']] # all completed passes of one player\n",
    "    \n",
    "    pass_com[players.loc[index1, 'shortName']] = len(count1) # value of that player = number of completed passes\n",
    "\n",
    "# creating a dict with completed/attempted\n",
    "\n",
    "for key, value in pass_com.items():\n",
    "    \n",
    "# change the values of pass_att with the ratio of completed / attempted\n",
    "    pass_att[key] = (pass_com[key]/pass_att[key])*100  \n",
    "\n",
    "pass_ratio = pass_att \n",
    "\n",
    "pass_ratio = sorted(pass_ratio.items(), key=lambda x: x[1], reverse=True) # sorting by value\n",
    "\n",
    "print(pass_ratio[:10]) # print the 10 most accurate playera\n"
   ]
  },
  {
   "cell_type": "code",
   "execution_count": null,
   "metadata": {},
   "outputs": [],
   "source": []
  }
 ],
 "metadata": {
  "kernelspec": {
   "display_name": "Python 3",
   "language": "python",
   "name": "python3"
  },
  "language_info": {
   "codemirror_mode": {
    "name": "ipython",
    "version": 3
   },
   "file_extension": ".py",
   "mimetype": "text/x-python",
   "name": "python",
   "nbconvert_exporter": "python",
   "pygments_lexer": "ipython3",
   "version": "3.7.3"
  }
 },
 "nbformat": 4,
 "nbformat_minor": 2
}
