{
 "cells": [
  {
   "cell_type": "markdown",
   "metadata": {},
   "source": [
    "# Algorithm Complexity"
   ]
  },
  {
   "cell_type": "markdown",
   "metadata": {},
   "source": [
    "function splitSwap(a, l, n):\n",
    "\n",
    "      if n <= 1:\n",
    "\n",
    "        return\n",
    "\n",
    "      splitSwap(a, l, n/2)\n",
    "\n",
    "      splitSwap(a, l+ n /2, n/2)\n",
    "\n",
    "      swapList(a, l, n)"
   ]
  },
  {
   "cell_type": "markdown",
   "metadata": {},
   "source": [
    "function swapList(a, l, n):\n",
    "\n",
    "  for i = 0 to n/2:\n",
    "  \n",
    "    tmp = a[l + i]\n",
    "    \n",
    "    a[l + i] = a[l + n/2 + i]\n",
    "    \n",
    "    a[l + n/2 + i] = tmp"
   ]
  },
  {
   "cell_type": "markdown",
   "metadata": {},
   "source": [
    "the function splitSwap is called 3 times;\n",
    "\n",
    "- the first one (most outer splitSwap) strats the execution.\n",
    "- the second one (splitSwap(a, l, n/2) is called log2(n) times as it divedes n by 2.\n",
    "    - as the return statement is empty, the third one (splitSwap(a, l+ n /2, n/2)) sees the first input n and divide it by 2.\n",
    "    \n",
    "    \n",
    "- Because of this, the third one (splitSwap(a, l+ n /2, n/2)) calls the second one,   [log2(n-1) + log2(n-2)+...+log2(2)] times.\n",
    "\n",
    "\n",
    "- until now, the execution of split swap functions takes sum(log2(n), log2(n-1), ..., log2(2)) times.\n",
    "\n",
    "- finally, the swapList(a, l, n) function is called only once and as it contains a for loop, it is executed n/2 times."
   ]
  },
  {
   "cell_type": "markdown",
   "metadata": {},
   "source": [
    "## so if we say that T(n) = execution time,\n",
    "\n",
    "### T(n) = T(1) + c1*[log2(n) + log2(n-1) + ... + log2(2)] + n/2*c2"
   ]
  },
  {
   "cell_type": "markdown",
   "metadata": {},
   "source": [
    "### The algorithm is not optimal because the splitSwap function has a null return statement. This makes it useless becasue the swapList function doesn't even recongnizes the output of splitSwap."
   ]
  },
  {
   "cell_type": "markdown",
   "metadata": {},
   "source": [
    "### On the other hand, the swapList function takes a list A, an index i, and a length n;\n",
    "- ### starting from index i to index (i + n/2), takes this subset of list A. Lets call this subset S1 with lenght n/2.\n",
    "- ### after that, starting from index (i + n/2) to index n, takes this subset of list A. Lets call this subset S2 with lenght also n/2.\n",
    "- ### after defining subset S1 and S2 on list A, the function changes the places of S1 and S2.\n",
    "- ### in other words, starting from an index i to index i + n, the function chages the place of elements from index [i to (i + n/2)] with elements from index [(i + n/2) to n]\n",
    "\n",
    "\n",
    "here i + n must be less than or equal to length of List A.\n"
   ]
  }
 ],
 "metadata": {
  "kernelspec": {
   "display_name": "Python 3",
   "language": "python",
   "name": "python3"
  },
  "language_info": {
   "codemirror_mode": {
    "name": "ipython",
    "version": 3
   },
   "file_extension": ".py",
   "mimetype": "text/x-python",
   "name": "python",
   "nbconvert_exporter": "python",
   "pygments_lexer": "ipython3",
   "version": "3.7.3"
  }
 },
 "nbformat": 4,
 "nbformat_minor": 2
}
