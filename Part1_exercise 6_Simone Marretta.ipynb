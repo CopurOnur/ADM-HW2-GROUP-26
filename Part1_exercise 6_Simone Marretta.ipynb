{
 "cells": [
  {
   "cell_type": "markdown",
   "metadata": {},
   "source": [
    "# [RQ6] Experience and Winning in the Premier League "
   ]
  },
  {
   "cell_type": "markdown",
   "metadata": {},
   "source": [
    "In this exercise we'll try to see if there is any relation between the average ages of the lineup of a Premier League team and his position in the Premier League table.\n",
    "In other word we'll try to prove that a team with more experienced players can have an advantage over teams with younger players."
   ]
  },
  {
   "cell_type": "code",
   "execution_count": 66,
   "metadata": {},
   "outputs": [],
   "source": [
    "import pandas as pd\n",
    "import json\n",
    "import seaborn as sns\n",
    "import matplotlib.pyplot as plt\n",
    "import matplotlib.cm as cm\n",
    "import numpy as np\n",
    "from sklearn.linear_model import LinearRegression"
   ]
  },
  {
   "cell_type": "markdown",
   "metadata": {},
   "source": [
    "# Obtain a matches dataframe and clean it"
   ]
  },
  {
   "cell_type": "code",
   "execution_count": 67,
   "metadata": {},
   "outputs": [
    {
     "data": {
      "text/html": [
       "<div>\n",
       "<style scoped>\n",
       "    .dataframe tbody tr th:only-of-type {\n",
       "        vertical-align: middle;\n",
       "    }\n",
       "\n",
       "    .dataframe tbody tr th {\n",
       "        vertical-align: top;\n",
       "    }\n",
       "\n",
       "    .dataframe thead th {\n",
       "        text-align: right;\n",
       "    }\n",
       "</style>\n",
       "<table border=\"1\" class=\"dataframe\">\n",
       "  <thead>\n",
       "    <tr style=\"text-align: right;\">\n",
       "      <th></th>\n",
       "      <th>name</th>\n",
       "      <th>area</th>\n",
       "      <th>currentTeamId</th>\n",
       "    </tr>\n",
       "  </thead>\n",
       "  <tbody>\n",
       "    <tr>\n",
       "      <th>0</th>\n",
       "      <td>Newcastle United</td>\n",
       "      <td>England</td>\n",
       "      <td>1613</td>\n",
       "    </tr>\n",
       "    <tr>\n",
       "      <th>8</th>\n",
       "      <td>Huddersfield Town</td>\n",
       "      <td>England</td>\n",
       "      <td>1673</td>\n",
       "    </tr>\n",
       "    <tr>\n",
       "      <th>19</th>\n",
       "      <td>Swansea City</td>\n",
       "      <td>Wales</td>\n",
       "      <td>10531</td>\n",
       "    </tr>\n",
       "    <tr>\n",
       "      <th>26</th>\n",
       "      <td>AFC Bournemouth</td>\n",
       "      <td>England</td>\n",
       "      <td>1659</td>\n",
       "    </tr>\n",
       "    <tr>\n",
       "      <th>27</th>\n",
       "      <td>Brighton &amp; Hove Albion</td>\n",
       "      <td>England</td>\n",
       "      <td>1651</td>\n",
       "    </tr>\n",
       "  </tbody>\n",
       "</table>\n",
       "</div>"
      ],
      "text/plain": [
       "                      name     area  currentTeamId\n",
       "0         Newcastle United  England           1613\n",
       "8        Huddersfield Town  England           1673\n",
       "19            Swansea City    Wales          10531\n",
       "26         AFC Bournemouth  England           1659\n",
       "27  Brighton & Hove Albion  England           1651"
      ]
     },
     "execution_count": 67,
     "metadata": {},
     "output_type": "execute_result"
    }
   ],
   "source": [
    "#Load teams.json and save it as json and as dataframe\n",
    "#We clean and rename the teams dataframe because we want to easily join it with another dataframe.\n",
    "teams = pd.read_json(r'C:\\Users\\simo2\\teams.json')\n",
    "with open(r'C:\\Users\\simo2\\teams.json') as data_file:    \n",
    "    data = json.load(data_file)\n",
    "teams = pd.io.json.json_normalize(data) \n",
    "teams = teams[teams.type ==\"club\"] # we don't want national teams\n",
    "teams = teams[[\"name\", \"area.name\", \"wyId\"]]\n",
    "teams.rename(columns={\"area.name\":'area','wyId':'currentTeamId'},inplace = True)\n",
    "teams = teams[(teams['area'] == 'England') | (teams['area'] == 'Wales')]\n",
    "teams.head()"
   ]
  },
  {
   "cell_type": "markdown",
   "metadata": {},
   "source": [
    "# Obtain a players dataframe and clean it"
   ]
  },
  {
   "cell_type": "code",
   "execution_count": 68,
   "metadata": {},
   "outputs": [
    {
     "data": {
      "text/html": [
       "<div>\n",
       "<style scoped>\n",
       "    .dataframe tbody tr th:only-of-type {\n",
       "        vertical-align: middle;\n",
       "    }\n",
       "\n",
       "    .dataframe tbody tr th {\n",
       "        vertical-align: top;\n",
       "    }\n",
       "\n",
       "    .dataframe thead th {\n",
       "        text-align: right;\n",
       "    }\n",
       "</style>\n",
       "<table border=\"1\" class=\"dataframe\">\n",
       "  <thead>\n",
       "    <tr style=\"text-align: right;\">\n",
       "      <th></th>\n",
       "      <th>age</th>\n",
       "      <th>currentTeamId</th>\n",
       "      <th>shortName</th>\n",
       "      <th>wyId</th>\n",
       "    </tr>\n",
       "  </thead>\n",
       "  <tbody>\n",
       "    <tr>\n",
       "      <th>0</th>\n",
       "      <td>30</td>\n",
       "      <td>4502</td>\n",
       "      <td>H. Tekin</td>\n",
       "      <td>32777</td>\n",
       "    </tr>\n",
       "    <tr>\n",
       "      <th>1</th>\n",
       "      <td>20</td>\n",
       "      <td>3775</td>\n",
       "      <td>M. Sarr</td>\n",
       "      <td>393228</td>\n",
       "    </tr>\n",
       "    <tr>\n",
       "      <th>2</th>\n",
       "      <td>21</td>\n",
       "      <td>3772</td>\n",
       "      <td>O. Mandanda</td>\n",
       "      <td>393230</td>\n",
       "    </tr>\n",
       "    <tr>\n",
       "      <th>3</th>\n",
       "      <td>29</td>\n",
       "      <td>683</td>\n",
       "      <td>A. N'Diaye</td>\n",
       "      <td>32793</td>\n",
       "    </tr>\n",
       "    <tr>\n",
       "      <th>4</th>\n",
       "      <td>20</td>\n",
       "      <td>2975</td>\n",
       "      <td>I. Konat\\u00e9</td>\n",
       "      <td>393247</td>\n",
       "    </tr>\n",
       "  </tbody>\n",
       "</table>\n",
       "</div>"
      ],
      "text/plain": [
       "   age currentTeamId       shortName    wyId\n",
       "0   30          4502        H. Tekin   32777\n",
       "1   20          3775         M. Sarr  393228\n",
       "2   21          3772     O. Mandanda  393230\n",
       "3   29           683      A. N'Diaye   32793\n",
       "4   20          2975  I. Konat\\u00e9  393247"
      ]
     },
     "execution_count": 68,
     "metadata": {},
     "output_type": "execute_result"
    }
   ],
   "source": [
    "#Load players.json and save it as a dataframe.\n",
    "#Clean the dataframe,defining a function that converts birthDate to age and apply to the birthDate column of players dataset\n",
    "\n",
    "players = pd.read_json(r'C:\\Users\\simo2\\Downloads\\players.json')\n",
    "players = players[['birthDate','currentTeamId','shortName','wyId']]\n",
    "def convert_age(s):\n",
    "    age =(pd.to_datetime('today').year-pd.to_datetime(s).year)\n",
    "    return age\n",
    "players['birthDate'] = players['birthDate'].apply(convert_age)\n",
    "players.rename(columns={'birthDate': 'age'}, inplace=True)\n",
    "players.head()"
   ]
  },
  {
   "cell_type": "markdown",
   "metadata": {},
   "source": [
    "# Merging the two dataframes"
   ]
  },
  {
   "cell_type": "code",
   "execution_count": 69,
   "metadata": {},
   "outputs": [
    {
     "data": {
      "text/html": [
       "<div>\n",
       "<style scoped>\n",
       "    .dataframe tbody tr th:only-of-type {\n",
       "        vertical-align: middle;\n",
       "    }\n",
       "\n",
       "    .dataframe tbody tr th {\n",
       "        vertical-align: top;\n",
       "    }\n",
       "\n",
       "    .dataframe thead th {\n",
       "        text-align: right;\n",
       "    }\n",
       "</style>\n",
       "<table border=\"1\" class=\"dataframe\">\n",
       "  <thead>\n",
       "    <tr style=\"text-align: right;\">\n",
       "      <th></th>\n",
       "      <th>age</th>\n",
       "      <th>name</th>\n",
       "      <th>wyId</th>\n",
       "      <th>shortName</th>\n",
       "    </tr>\n",
       "  </thead>\n",
       "  <tbody>\n",
       "    <tr>\n",
       "      <th>0</th>\n",
       "      <td>30</td>\n",
       "      <td>Tottenham Hotspur</td>\n",
       "      <td>36</td>\n",
       "      <td>T. Alderweireld</td>\n",
       "    </tr>\n",
       "    <tr>\n",
       "      <th>1</th>\n",
       "      <td>32</td>\n",
       "      <td>Tottenham Hotspur</td>\n",
       "      <td>48</td>\n",
       "      <td>J. Vertonghen</td>\n",
       "    </tr>\n",
       "    <tr>\n",
       "      <th>2</th>\n",
       "      <td>27</td>\n",
       "      <td>Tottenham Hotspur</td>\n",
       "      <td>54</td>\n",
       "      <td>C. Eriksen</td>\n",
       "    </tr>\n",
       "    <tr>\n",
       "      <th>3</th>\n",
       "      <td>29</td>\n",
       "      <td>Tottenham Hotspur</td>\n",
       "      <td>8292</td>\n",
       "      <td>D. Rose</td>\n",
       "    </tr>\n",
       "    <tr>\n",
       "      <th>4</th>\n",
       "      <td>26</td>\n",
       "      <td>Tottenham Hotspur</td>\n",
       "      <td>8717</td>\n",
       "      <td>H. Kane</td>\n",
       "    </tr>\n",
       "  </tbody>\n",
       "</table>\n",
       "</div>"
      ],
      "text/plain": [
       "   age               name  wyId        shortName\n",
       "0   30  Tottenham Hotspur    36  T. Alderweireld\n",
       "1   32  Tottenham Hotspur    48    J. Vertonghen\n",
       "2   27  Tottenham Hotspur    54       C. Eriksen\n",
       "3   29  Tottenham Hotspur  8292          D. Rose\n",
       "4   26  Tottenham Hotspur  8717          H. Kane"
      ]
     },
     "execution_count": 69,
     "metadata": {},
     "output_type": "execute_result"
    }
   ],
   "source": [
    "#Merge players and teams dataframes and clean it\n",
    "mergedDataframe = (pd.merge(players, teams, on='currentTeamId'))\n",
    "mergedDataframe_players = mergedDataframe[['age','name','wyId','shortName']]\n",
    "mergedDataframe_players.head()"
   ]
  },
  {
   "cell_type": "markdown",
   "metadata": {},
   "source": [
    "# Creating a new dataframe with the appearances of each player"
   ]
  },
  {
   "cell_type": "markdown",
   "metadata": {},
   "source": [
    "We want to determine the average age of the lineups of each team.\n",
    "So we decided to rank all the players of each team by their lineup appearances and to take into consideration only the ages of the eleven players for each team that have the highest number of appearances. "
   ]
  },
  {
   "cell_type": "code",
   "execution_count": 70,
   "metadata": {},
   "outputs": [
    {
     "data": {
      "text/html": [
       "<div>\n",
       "<style scoped>\n",
       "    .dataframe tbody tr th:only-of-type {\n",
       "        vertical-align: middle;\n",
       "    }\n",
       "\n",
       "    .dataframe tbody tr th {\n",
       "        vertical-align: top;\n",
       "    }\n",
       "\n",
       "    .dataframe thead th {\n",
       "        text-align: right;\n",
       "    }\n",
       "</style>\n",
       "<table border=\"1\" class=\"dataframe\">\n",
       "  <thead>\n",
       "    <tr style=\"text-align: right;\">\n",
       "      <th></th>\n",
       "      <th>age</th>\n",
       "      <th>name</th>\n",
       "      <th>wyId</th>\n",
       "      <th>shortName</th>\n",
       "      <th>Appearances</th>\n",
       "    </tr>\n",
       "  </thead>\n",
       "  <tbody>\n",
       "    <tr>\n",
       "      <th>352</th>\n",
       "      <td>32</td>\n",
       "      <td>AFC Bournemouth</td>\n",
       "      <td>8726</td>\n",
       "      <td>A. Begovi\\u0107</td>\n",
       "      <td>38</td>\n",
       "    </tr>\n",
       "    <tr>\n",
       "      <th>362</th>\n",
       "      <td>24</td>\n",
       "      <td>AFC Bournemouth</td>\n",
       "      <td>134102</td>\n",
       "      <td>N. Ak\\u00e9</td>\n",
       "      <td>37</td>\n",
       "    </tr>\n",
       "    <tr>\n",
       "      <th>355</th>\n",
       "      <td>33</td>\n",
       "      <td>AFC Bournemouth</td>\n",
       "      <td>9285</td>\n",
       "      <td>C. Daniels</td>\n",
       "      <td>34</td>\n",
       "    </tr>\n",
       "    <tr>\n",
       "      <th>354</th>\n",
       "      <td>34</td>\n",
       "      <td>AFC Bournemouth</td>\n",
       "      <td>9279</td>\n",
       "      <td>S. Francis</td>\n",
       "      <td>31</td>\n",
       "    </tr>\n",
       "    <tr>\n",
       "      <th>360</th>\n",
       "      <td>28</td>\n",
       "      <td>AFC Bournemouth</td>\n",
       "      <td>9277</td>\n",
       "      <td>S. Cook</td>\n",
       "      <td>31</td>\n",
       "    </tr>\n",
       "  </tbody>\n",
       "</table>\n",
       "</div>"
      ],
      "text/plain": [
       "     age             name    wyId        shortName  Appearances\n",
       "352   32  AFC Bournemouth    8726  A. Begovi\\u0107           38\n",
       "362   24  AFC Bournemouth  134102      N. Ak\\u00e9           37\n",
       "355   33  AFC Bournemouth    9285       C. Daniels           34\n",
       "354   34  AFC Bournemouth    9279       S. Francis           31\n",
       "360   28  AFC Bournemouth    9277          S. Cook           31"
      ]
     },
     "execution_count": 70,
     "metadata": {},
     "output_type": "execute_result"
    }
   ],
   "source": [
    "#Load the matches.json dataset and create a dictionary of players.Each player has as a value the times in which he was in the lineup during the Season\n",
    "#Convert the dictionary to dataframe and merge it to the mergedDataframe_players\n",
    "#Sort the new Dataframe by the Age keeping costant the teams\n",
    "\n",
    "with open(r'C:\\Users\\simo2\\OneDrive\\Desktop\\matches_England.json') as json_data:\n",
    "    json_matches = json.load(json_data)\n",
    "dictionary_of_players={}    \n",
    "for i in range(len(json_matches)):\n",
    "    list_keys=[*(json_matches[i]['teamsData'])]\n",
    "    for key in list_keys:\n",
    "        for j in range(11):\n",
    "            Player=json_matches[i]['teamsData'][key]['formation']['lineup'][j]['playerId']\n",
    "            \n",
    "            if Player not in dictionary_of_players:\n",
    "                dictionary_of_players[Player]=1\n",
    "            else:   \n",
    "                dictionary_of_players[Player]+=1 \n",
    "Players_lineup = pd.DataFrame(dictionary_of_players.items(), columns=['wyId', 'Values'])\n",
    "New_dataframe = (pd.merge(mergedDataframe_players,Players_lineup,on = 'wyId'))          \n",
    "\n",
    "New_dataframe =New_dataframe.sort_values(by=['name','Values'],ascending=[True, False])\n",
    "New_dataframe.rename(columns={\"Values\":'Appearances'},inplace = True)\n",
    "New_dataframe.head()"
   ]
  },
  {
   "cell_type": "markdown",
   "metadata": {},
   "source": [
    "# Create a dictionary which stores the average lineup ages of all the premier league teams using the dataframe with the appearances"
   ]
  },
  {
   "cell_type": "code",
   "execution_count": 71,
   "metadata": {},
   "outputs": [
    {
     "data": {
      "text/plain": [
       "{'AFC Bournemouth': 27.636363636363637,\n",
       " 'Arsenal': 29.0,\n",
       " 'Brighton & Hove Albion': 29.90909090909091,\n",
       " 'Burnley': 29.727272727272727,\n",
       " 'Chelsea': 28.09090909090909,\n",
       " 'Crystal Palace': 29.09090909090909,\n",
       " 'Everton': 27.545454545454547,\n",
       " 'Huddersfield Town': 28.545454545454547,\n",
       " 'Leicester City': 30.09090909090909,\n",
       " 'Liverpool': 27.363636363636363,\n",
       " 'Manchester City': 28.90909090909091,\n",
       " 'Manchester United': 29.636363636363637,\n",
       " 'Newcastle United': 28.181818181818183,\n",
       " 'Southampton': 27.09090909090909,\n",
       " 'Stoke City': 30.272727272727273,\n",
       " 'Swansea City': 28.90909090909091,\n",
       " 'Tottenham Hotspur': 27.545454545454547,\n",
       " 'Watford': 31.181818181818183,\n",
       " 'West Bromwich Albion': 29.818181818181817,\n",
       " 'West Ham United': 30.272727272727273}"
      ]
     },
     "execution_count": 71,
     "metadata": {},
     "output_type": "execute_result"
    }
   ],
   "source": [
    "#Reset the index and clean the dataframe\n",
    "#Calculate the average age of all Premier League teams using a dictionary\n",
    "New_dataframe = New_dataframe.reset_index ()\n",
    "del New_dataframe['index']\n",
    "dic_avg_age_teams = {}\n",
    "total = 0\n",
    "count = 0\n",
    "\n",
    "try:\n",
    "    for i in range(len(New_dataframe)):\n",
    "        if New_dataframe['name'][i] == New_dataframe['name'][i+1] and New_dataframe['name'][i] not in dic_avg_age_teams:\n",
    "            total += New_dataframe['age'][i]\n",
    "            count += 1\n",
    "        if New_dataframe['name'][i] != New_dataframe['name'][i+1] and New_dataframe['name'][i] not in dic_avg_age_teams:\n",
    "            total += New_dataframe['age'][i]\n",
    "            count += 1\n",
    "        \n",
    "        if count == 11 and New_dataframe['name'][i] not in dic_avg_age_teams:\n",
    "            dic_avg_age_teams[New_dataframe['name'][i]]= total/11\n",
    "            total = 0\n",
    "            count = 0\n",
    "except KeyError:\n",
    "    pass      \n",
    "dic_avg_age_teams"
   ]
  },
  {
   "cell_type": "markdown",
   "metadata": {},
   "source": [
    "# Calculating the Premier League final table with a dictionary"
   ]
  },
  {
   "cell_type": "code",
   "execution_count": 72,
   "metadata": {},
   "outputs": [
    {
     "data": {
      "text/plain": [
       "{'Newcastle United': 44,\n",
       " 'Huddersfield Town': 37,\n",
       " 'Swansea City': 33,\n",
       " 'AFC Bournemouth': 44,\n",
       " 'Brighton & Hove Albion': 41,\n",
       " 'Burnley': 54,\n",
       " 'Leicester City': 47,\n",
       " 'West Ham United': 42,\n",
       " 'Stoke City': 33,\n",
       " 'Watford': 39,\n",
       " 'Everton': 48,\n",
       " 'West Bromwich Albion': 31,\n",
       " 'Manchester City': 100,\n",
       " 'Tottenham Hotspur': 77,\n",
       " 'Crystal Palace': 44,\n",
       " 'Southampton': 36,\n",
       " 'Liverpool': 75,\n",
       " 'Chelsea': 70,\n",
       " 'Manchester United': 81,\n",
       " 'Arsenal': 63}"
      ]
     },
     "execution_count": 72,
     "metadata": {},
     "output_type": "execute_result"
    }
   ],
   "source": [
    "#Load matches.json as a dataframe,clean it and create a dictionary that pairs each team with their points in Premier League season 2017-2018\n",
    "\n",
    "matches = pd.read_json(r\"C:\\Users\\simo2\\OneDrive\\Desktop\\matches_England.json\")\n",
    "matches = matches[[\"status\", \"gameweek\", \"winner\", \"label\" ]] \n",
    "matches = matches[matches.status ==\"Played\"] \n",
    "del matches[\"status\"] \n",
    "matches = matches.sort_values(by=[\"gameweek\"]) \n",
    "matches.index = range(len(matches.index)) \n",
    "teams = teams.reset_index ()\n",
    "del teams['index']\n",
    "dict_of_teams = {}\n",
    "for i in range(len(teams)):\n",
    "    team = teams.iloc[i,0]\n",
    "    wyId = teams.iloc[i,2]\n",
    "    dict_of_teams[team]  = 0\n",
    "    for i in range(len(matches)):\n",
    "        if team in matches['label'][i] and matches['winner'][i]== wyId:\n",
    "            dict_of_teams[team] += 3\n",
    "        if team in matches['label'][i] and matches['winner'][i]== 0:\n",
    "            dict_of_teams[team] += 1\n",
    "dict_of_teams            "
   ]
  },
  {
   "cell_type": "markdown",
   "metadata": {},
   "source": [
    "# Obtaining a final dataframe from the two dictionaries"
   ]
  },
  {
   "cell_type": "code",
   "execution_count": 73,
   "metadata": {},
   "outputs": [
    {
     "data": {
      "text/html": [
       "<div>\n",
       "<style scoped>\n",
       "    .dataframe tbody tr th:only-of-type {\n",
       "        vertical-align: middle;\n",
       "    }\n",
       "\n",
       "    .dataframe tbody tr th {\n",
       "        vertical-align: top;\n",
       "    }\n",
       "\n",
       "    .dataframe thead th {\n",
       "        text-align: right;\n",
       "    }\n",
       "</style>\n",
       "<table border=\"1\" class=\"dataframe\">\n",
       "  <thead>\n",
       "    <tr style=\"text-align: right;\">\n",
       "      <th></th>\n",
       "      <th>name</th>\n",
       "      <th>avgage</th>\n",
       "      <th>points</th>\n",
       "    </tr>\n",
       "  </thead>\n",
       "  <tbody>\n",
       "    <tr>\n",
       "      <th>0</th>\n",
       "      <td>AFC Bournemouth</td>\n",
       "      <td>27.636364</td>\n",
       "      <td>44</td>\n",
       "    </tr>\n",
       "    <tr>\n",
       "      <th>1</th>\n",
       "      <td>Arsenal</td>\n",
       "      <td>29.000000</td>\n",
       "      <td>63</td>\n",
       "    </tr>\n",
       "    <tr>\n",
       "      <th>2</th>\n",
       "      <td>Brighton &amp; Hove Albion</td>\n",
       "      <td>29.909091</td>\n",
       "      <td>41</td>\n",
       "    </tr>\n",
       "    <tr>\n",
       "      <th>3</th>\n",
       "      <td>Burnley</td>\n",
       "      <td>29.727273</td>\n",
       "      <td>54</td>\n",
       "    </tr>\n",
       "    <tr>\n",
       "      <th>4</th>\n",
       "      <td>Chelsea</td>\n",
       "      <td>28.090909</td>\n",
       "      <td>70</td>\n",
       "    </tr>\n",
       "    <tr>\n",
       "      <th>5</th>\n",
       "      <td>Crystal Palace</td>\n",
       "      <td>29.090909</td>\n",
       "      <td>44</td>\n",
       "    </tr>\n",
       "    <tr>\n",
       "      <th>6</th>\n",
       "      <td>Everton</td>\n",
       "      <td>27.545455</td>\n",
       "      <td>48</td>\n",
       "    </tr>\n",
       "    <tr>\n",
       "      <th>7</th>\n",
       "      <td>Huddersfield Town</td>\n",
       "      <td>28.545455</td>\n",
       "      <td>37</td>\n",
       "    </tr>\n",
       "    <tr>\n",
       "      <th>8</th>\n",
       "      <td>Leicester City</td>\n",
       "      <td>30.090909</td>\n",
       "      <td>47</td>\n",
       "    </tr>\n",
       "    <tr>\n",
       "      <th>9</th>\n",
       "      <td>Liverpool</td>\n",
       "      <td>27.363636</td>\n",
       "      <td>75</td>\n",
       "    </tr>\n",
       "    <tr>\n",
       "      <th>10</th>\n",
       "      <td>Manchester City</td>\n",
       "      <td>28.909091</td>\n",
       "      <td>100</td>\n",
       "    </tr>\n",
       "    <tr>\n",
       "      <th>11</th>\n",
       "      <td>Manchester United</td>\n",
       "      <td>29.636364</td>\n",
       "      <td>81</td>\n",
       "    </tr>\n",
       "    <tr>\n",
       "      <th>12</th>\n",
       "      <td>Newcastle United</td>\n",
       "      <td>28.181818</td>\n",
       "      <td>44</td>\n",
       "    </tr>\n",
       "    <tr>\n",
       "      <th>13</th>\n",
       "      <td>Southampton</td>\n",
       "      <td>27.090909</td>\n",
       "      <td>36</td>\n",
       "    </tr>\n",
       "    <tr>\n",
       "      <th>14</th>\n",
       "      <td>Stoke City</td>\n",
       "      <td>30.272727</td>\n",
       "      <td>33</td>\n",
       "    </tr>\n",
       "    <tr>\n",
       "      <th>15</th>\n",
       "      <td>Swansea City</td>\n",
       "      <td>28.909091</td>\n",
       "      <td>33</td>\n",
       "    </tr>\n",
       "    <tr>\n",
       "      <th>16</th>\n",
       "      <td>Tottenham Hotspur</td>\n",
       "      <td>27.545455</td>\n",
       "      <td>77</td>\n",
       "    </tr>\n",
       "    <tr>\n",
       "      <th>17</th>\n",
       "      <td>Watford</td>\n",
       "      <td>31.181818</td>\n",
       "      <td>39</td>\n",
       "    </tr>\n",
       "    <tr>\n",
       "      <th>18</th>\n",
       "      <td>West Bromwich Albion</td>\n",
       "      <td>29.818182</td>\n",
       "      <td>31</td>\n",
       "    </tr>\n",
       "    <tr>\n",
       "      <th>19</th>\n",
       "      <td>West Ham United</td>\n",
       "      <td>30.272727</td>\n",
       "      <td>42</td>\n",
       "    </tr>\n",
       "  </tbody>\n",
       "</table>\n",
       "</div>"
      ],
      "text/plain": [
       "                      name     avgage  points\n",
       "0          AFC Bournemouth  27.636364      44\n",
       "1                  Arsenal  29.000000      63\n",
       "2   Brighton & Hove Albion  29.909091      41\n",
       "3                  Burnley  29.727273      54\n",
       "4                  Chelsea  28.090909      70\n",
       "5           Crystal Palace  29.090909      44\n",
       "6                  Everton  27.545455      48\n",
       "7        Huddersfield Town  28.545455      37\n",
       "8           Leicester City  30.090909      47\n",
       "9                Liverpool  27.363636      75\n",
       "10         Manchester City  28.909091     100\n",
       "11       Manchester United  29.636364      81\n",
       "12        Newcastle United  28.181818      44\n",
       "13             Southampton  27.090909      36\n",
       "14              Stoke City  30.272727      33\n",
       "15            Swansea City  28.909091      33\n",
       "16       Tottenham Hotspur  27.545455      77\n",
       "17                 Watford  31.181818      39\n",
       "18    West Bromwich Albion  29.818182      31\n",
       "19         West Ham United  30.272727      42"
      ]
     },
     "execution_count": 73,
     "metadata": {},
     "output_type": "execute_result"
    }
   ],
   "source": [
    "#Convert the two dictionaries to two dataframes and merge them\n",
    "\n",
    "dataframe_avg_age= pd.DataFrame(dic_avg_age_teams.items(), columns=['name', 'avgage'])\n",
    "dataframe_points = pd.DataFrame(dict_of_teams.items(), columns=['name', 'points'])\n",
    "dataframe_points = dataframe_points.sort_values('name') \n",
    "merged_dataframe_points_avg_age= pd.merge(dataframe_avg_age,dataframe_points,on = 'name') \n",
    "merged_dataframe_points_avg_age"
   ]
  },
  {
   "cell_type": "markdown",
   "metadata": {},
   "source": [
    "# Plotting the dataframe"
   ]
  },
  {
   "cell_type": "code",
   "execution_count": 74,
   "metadata": {},
   "outputs": [
    {
     "data": {
      "text/plain": [
       "<seaborn.axisgrid.FacetGrid at 0x2bd6938dd68>"
      ]
     },
     "execution_count": 74,
     "metadata": {},
     "output_type": "execute_result"
    },
    {
     "data": {
      "image/png": "[encoded data removed]",
      "text/plain": [
       "<Figure size 360x360 with 1 Axes>"
      ]
     },
     "metadata": {
      "needs_background": "light"
     },
     "output_type": "display_data"
    }
   ],
   "source": [
    "#Plot the dataframe\n",
    "\n",
    "sns.relplot(x=\"avgage\", y=\"points\", data=merged_dataframe_points_avg_age)"
   ]
  },
  {
   "cell_type": "markdown",
   "metadata": {},
   "source": [
    "We see no relation between the average ages of players of a team and the point that the team gained in the season."
   ]
  },
  {
   "cell_type": "markdown",
   "metadata": {},
   "source": [
    "# Linear regression"
   ]
  },
  {
   "cell_type": "code",
   "execution_count": 75,
   "metadata": {},
   "outputs": [],
   "source": [
    "X = merged_dataframe_points_avg_age['avgage'].values.reshape(-1, 1)  # values converts it into a numpy array\n",
    "Y = merged_dataframe_points_avg_age['points'].values.reshape(-1, 1)  # -1 means that calculate the dimension of rows, but have 1 column\n",
    "linear_regressor = LinearRegression()  # create object for the class\n",
    "linear_regressor.fit(X, Y)  # perform linear regression\n",
    "Y_pred = linear_regressor.predict(X)  # make predictions"
   ]
  },
  {
   "cell_type": "code",
   "execution_count": 76,
   "metadata": {},
   "outputs": [
    {
     "data": {
      "image/png": "[encoded data removed]",
      "text/plain": [
       "<Figure size 432x288 with 1 Axes>"
      ]
     },
     "metadata": {
      "needs_background": "light"
     },
     "output_type": "display_data"
    }
   ],
   "source": [
    "plt.scatter(X, Y)\n",
    "plt.plot(X, Y_pred, color='red')\n",
    "plt.show()"
   ]
  }
 ],
 "metadata": {
  "kernelspec": {
   "display_name": "Python 3",
   "language": "python",
   "name": "python3"
  },
  "language_info": {
   "codemirror_mode": {
    "name": "ipython",
    "version": 3
   },
   "file_extension": ".py",
   "mimetype": "text/x-python",
   "name": "python",
   "nbconvert_exporter": "python",
   "pygments_lexer": "ipython3",
   "version": "3.7.3"
  }
 },
 "nbformat": 4,
 "nbformat_minor": 2
}
